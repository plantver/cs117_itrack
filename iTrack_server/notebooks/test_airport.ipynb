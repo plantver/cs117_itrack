{
 "cells": [
  {
   "cell_type": "code",
   "execution_count": 9,
   "metadata": {
    "collapsed": true
   },
   "outputs": [],
   "source": [
    "import subprocess\n",
    "from pprint import pprint\n",
    "import urllib3\n",
    "import json\n",
    "import requests\n",
    "import plistlib\n"
   ]
  },
  {
   "cell_type": "markdown",
   "metadata": {},
   "source": [
    "# Mac scan network"
   ]
  },
  {
   "cell_type": "code",
   "execution_count": 10,
   "metadata": {},
   "outputs": [],
   "source": [
    "aps = plistlib.loads(subprocess.check_output([\"airport\", \"-s\", \"-x\"]))\n",
    "# aps"
   ]
  },
  {
   "cell_type": "code",
   "execution_count": 11,
   "metadata": {
    "collapsed": true,
    "scrolled": true
   },
   "outputs": [],
   "source": [
    "aps_simp = [{\"BSSID\": d[\"BSSID\"],\n",
    "       \"SSID\": d[\"SSID\"].decode(\"ascii\"),\n",
    "       \"RSSI\": d[\"RSSI\"]}\n",
    "      for d in aps]\n",
    "# aps_simp"
   ]
  },
  {
   "cell_type": "markdown",
   "metadata": {},
   "source": [
    "# send request to serve"
   ]
  },
  {
   "cell_type": "raw",
   "metadata": {
    "collapsed": true
   },
   "source": [
    "with open('record_loc_info_sample.json', 'w') as f:\n",
    "    json.dump(json_post, f, indent=4, separators=(',', ': '), sort_keys=True)\n",
    "    #add trailing newline for POSIX compatibility\n",
    "    f.write('\\n')"
   ]
  },
  {
   "cell_type": "code",
   "execution_count": 65,
   "metadata": {},
   "outputs": [
    {
     "data": {
      "text/plain": [
       "b'{\"location\": \"Boelter5419\", \"relative_probability\": 0.7132676205394644}'"
      ]
     },
     "execution_count": 65,
     "metadata": {},
     "output_type": "execute_result"
    }
   ],
   "source": [
    "# locate!\n",
    "r = requests.get('http://localhost:5000/locate', json=aps_simp)\n",
    "r.content"
   ]
  },
  {
   "cell_type": "code",
   "execution_count": 93,
   "metadata": {
    "collapsed": true
   },
   "outputs": [],
   "source": [
    "# record!\n",
    "# format json\n",
    "json_post = {\"loc_ID\":\"Boelter5420\", \"access_points\":aps_simp}"
   ]
  },
  {
   "cell_type": "code",
   "execution_count": 94,
   "metadata": {
    "collapsed": true
   },
   "outputs": [],
   "source": [
    "# recording careful!!!\n",
    "r = requests.post('http://localhost:5000/rec_room_prof', json=json_post)"
   ]
  },
  {
   "cell_type": "code",
   "execution_count": 90,
   "metadata": {
    "collapsed": true
   },
   "outputs": [],
   "source": [
    "# recording NEW! careful!!!\n",
    "r = requests.post('http://localhost:5000/rec_new_room_prof', json=json_post)"
   ]
  },
  {
   "cell_type": "code",
   "execution_count": 15,
   "metadata": {},
   "outputs": [
    {
     "data": {
      "text/plain": [
       "b'{\"location\": \"ACKERMAN FL2\", \"relative_probability\": 1.0}'"
      ]
     },
     "execution_count": 15,
     "metadata": {},
     "output_type": "execute_result"
    }
   ],
   "source": [
    "# locate!\n",
    "r = requests.get('http://13.57.182.179:5001/locate', json=aps_simp)\n",
    "r.content"
   ]
  },
  {
   "cell_type": "code",
   "execution_count": 16,
   "metadata": {},
   "outputs": [
    {
     "data": {
      "text/plain": [
       "b'[{\"location\": \"ACKERMAN FL2\", \"popularity\": 2}]'"
      ]
     },
     "execution_count": 16,
     "metadata": {},
     "output_type": "execute_result"
    }
   ],
   "source": [
    "r = requests.get('http://13.57.182.179:5001/popular')\n",
    "r.content"
   ]
  },
  {
   "cell_type": "code",
   "execution_count": null,
   "metadata": {
    "collapsed": true
   },
   "outputs": [],
   "source": []
  },
  {
   "cell_type": "code",
   "execution_count": null,
   "metadata": {
    "collapsed": true
   },
   "outputs": [],
   "source": []
  }
 ],
 "metadata": {
  "kernelspec": {
   "display_name": "Python 3",
   "language": "python",
   "name": "python3"
  },
  "language_info": {
   "codemirror_mode": {
    "name": "ipython",
    "version": 3
   },
   "file_extension": ".py",
   "mimetype": "text/x-python",
   "name": "python",
   "nbconvert_exporter": "python",
   "pygments_lexer": "ipython3",
   "version": "3.6.2"
  }
 },
 "nbformat": 4,
 "nbformat_minor": 2
}
